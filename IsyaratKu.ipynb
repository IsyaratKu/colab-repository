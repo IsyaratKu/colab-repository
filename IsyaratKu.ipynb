{
  "cells": [
    {
      "cell_type": "markdown",
      "metadata": {
        "id": "view-in-github",
        "colab_type": "text"
      },
      "source": [
        "<a href=\"https://colab.research.google.com/github/ratama98/isyaratku-colab-repository/blob/main/IsyaratKu.ipynb\" target=\"_parent\"><img src=\"https://colab.research.google.com/assets/colab-badge.svg\" alt=\"Open In Colab\"/></a>"
      ]
    },
    {
      "cell_type": "markdown",
      "metadata": {
        "id": "nymvCFh2Ry99"
      },
      "source": [
        "# Isyaratku With ResNet50"
      ]
    },
    {
      "cell_type": "markdown",
      "metadata": {
        "id": "Ehbxc6M0R0zE"
      },
      "source": [
        "description maybe"
      ]
    },
    {
      "cell_type": "markdown",
      "metadata": {
        "id": "vXXaEumkRrDm"
      },
      "source": [
        "## Import Libraries"
      ]
    },
    {
      "cell_type": "code",
      "execution_count": null,
      "metadata": {
        "id": "qQvvAdVpRQnX"
      },
      "outputs": [],
      "source": [
        "import tensorflow as tf\n",
        "import tensorflow.lite as tflite\n",
        "import cv2\n",
        "import numpy as np\n",
        "import pandas as pd\n",
        "import csv\n",
        "import string\n",
        "import matplotlib.pyplot as plt\n",
        "from tensorflow.keras.preprocessing.image import ImageDataGenerator, array_to_img\n",
        "from tensorflow.keras.applications.resnet50 import ResNet50\n",
        "from tensorflow.keras.models import Sequential\n",
        "\n",
        "from IPython.display import clear_output\n",
        "import os"
      ]
    },
    {
      "cell_type": "code",
      "execution_count": null,
      "metadata": {
        "colab": {
          "base_uri": "https://localhost:8080/"
        },
        "id": "6PUIVZHlTdol",
        "outputId": "1959da50-9912-4817-f257-eac2a09037f8"
      },
      "outputs": [
        {
          "output_type": "stream",
          "name": "stdout",
          "text": [
            "Requirement already satisfied: kaggle in /usr/local/lib/python3.10/dist-packages (1.6.14)\n",
            "Requirement already satisfied: six>=1.10 in /usr/local/lib/python3.10/dist-packages (from kaggle) (1.16.0)\n",
            "Requirement already satisfied: certifi>=2023.7.22 in /usr/local/lib/python3.10/dist-packages (from kaggle) (2024.2.2)\n",
            "Requirement already satisfied: python-dateutil in /usr/local/lib/python3.10/dist-packages (from kaggle) (2.8.2)\n",
            "Requirement already satisfied: requests in /usr/local/lib/python3.10/dist-packages (from kaggle) (2.31.0)\n",
            "Requirement already satisfied: tqdm in /usr/local/lib/python3.10/dist-packages (from kaggle) (4.66.4)\n",
            "Requirement already satisfied: python-slugify in /usr/local/lib/python3.10/dist-packages (from kaggle) (8.0.4)\n",
            "Requirement already satisfied: urllib3 in /usr/local/lib/python3.10/dist-packages (from kaggle) (2.0.7)\n",
            "Requirement already satisfied: bleach in /usr/local/lib/python3.10/dist-packages (from kaggle) (6.1.0)\n",
            "Requirement already satisfied: webencodings in /usr/local/lib/python3.10/dist-packages (from bleach->kaggle) (0.5.1)\n",
            "Requirement already satisfied: text-unidecode>=1.3 in /usr/local/lib/python3.10/dist-packages (from python-slugify->kaggle) (1.3)\n",
            "Requirement already satisfied: charset-normalizer<4,>=2 in /usr/local/lib/python3.10/dist-packages (from requests->kaggle) (3.3.2)\n",
            "Requirement already satisfied: idna<4,>=2.5 in /usr/local/lib/python3.10/dist-packages (from requests->kaggle) (3.7)\n"
          ]
        }
      ],
      "source": [
        "!pip install kaggle"
      ]
    },
    {
      "cell_type": "markdown",
      "metadata": {
        "id": "eMcrNIMcRwTM"
      },
      "source": [
        "## Import Data"
      ]
    },
    {
      "cell_type": "code",
      "execution_count": null,
      "metadata": {
        "colab": {
          "base_uri": "https://localhost:8080/"
        },
        "id": "Ffu3CAKmRymf",
        "outputId": "ec211434-f434-43b4-cb53-46924b39fd34"
      },
      "outputs": [
        {
          "output_type": "stream",
          "name": "stdout",
          "text": [
            "Dataset URL: https://www.kaggle.com/datasets/agungmrf/indonesian-sign-language-bisindo\n",
            "License(s): unknown\n",
            "Downloading indonesian-sign-language-bisindo.zip to /content\n",
            " 98% 1.34G/1.36G [00:18<00:00, 139MB/s]\n",
            "100% 1.36G/1.36G [00:18<00:00, 79.8MB/s]\n",
            "Dataset URL: https://www.kaggle.com/datasets/datamunge/sign-language-mnist\n",
            "License(s): CC0-1.0\n",
            "Downloading sign-language-mnist.zip to /content\n",
            " 78% 49.0M/62.6M [00:00<00:00, 261MB/s]\n",
            "100% 62.6M/62.6M [00:00<00:00, 264MB/s]\n"
          ]
        }
      ],
      "source": [
        "!kaggle datasets download -d agungmrf/indonesian-sign-language-bisindo\n",
        "!kaggle datasets download -d datamunge/sign-language-mnist"
      ]
    },
    {
      "cell_type": "code",
      "execution_count": null,
      "metadata": {
        "id": "WFrSSxlBUGOc"
      },
      "outputs": [],
      "source": [
        "!mkdir ./datasets\n",
        "!rm -rf sample_data\n",
        "\n",
        "!unzip -o indonesian-sign-language-bisindo.zip -d datasets/indonesian-sign-language-bisindo\n",
        "!unzip -o sign-language-mnist.zip -d datasets/sign-language-mnist\n",
        "\n",
        "clear_output()\n",
        "\n",
        "bisindo_data_dir = '/content/datasets/indonesian-sign-language-bisindo'\n",
        "mnist_data_dir = '/content/datasets/sign-language-mnist'"
      ]
    },
    {
      "cell_type": "code",
      "execution_count": null,
      "metadata": {
        "colab": {
          "base_uri": "https://localhost:8080/"
        },
        "id": "kww9i-GCYVPF",
        "outputId": "1be6fb39-ed49-4f76-8728-3d5cc5e06a3c"
      },
      "outputs": [
        {
          "output_type": "stream",
          "name": "stdout",
          "text": [
            "total 20\n",
            "drwxr-xr-x 4 root root 4096 Jun  1 16:13 .\n",
            "drwxr-xr-x 1 root root 4096 Jun  1 16:13 ..\n",
            "drwxr-xr-x 3 root root 4096 Jun  1 16:13 indonesian-sign-language-bisindo\n",
            "drwxr-xr-x 4 root root 4096 Jun  1 16:13 sign-language-mnist\n"
          ]
        }
      ],
      "source": [
        "!ls -al ./datasets/"
      ]
    },
    {
      "cell_type": "markdown",
      "metadata": {
        "id": "gpHR4TSn5xpN"
      },
      "source": [
        "## Use GPU If available"
      ]
    },
    {
      "cell_type": "code",
      "execution_count": null,
      "metadata": {
        "colab": {
          "base_uri": "https://localhost:8080/"
        },
        "id": "qg-6jeYt5w8t",
        "outputId": "4519d00f-2447-4c74-e7ce-e5bf4615225a"
      },
      "outputs": [
        {
          "output_type": "stream",
          "name": "stdout",
          "text": [
            "Num GPUs Available:  1\n"
          ]
        }
      ],
      "source": [
        "print(\"Num GPUs Available: \", len(tf.config.list_physical_devices('GPU')))\n",
        "gpus = tf.config.list_physical_devices('GPU')\n",
        "if gpus:\n",
        "    tf.config.set_visible_devices(gpus[0], 'GPU')"
      ]
    },
    {
      "cell_type": "markdown",
      "metadata": {
        "id": "db7lYm4OeoNP"
      },
      "source": [
        "## ASL"
      ]
    },
    {
      "cell_type": "markdown",
      "metadata": {
        "id": "2Kcr3BM-buy_"
      },
      "source": [
        "### Data Preparation and Exploration"
      ]
    },
    {
      "cell_type": "code",
      "execution_count": null,
      "metadata": {
        "id": "44mW9Np1bvzW"
      },
      "outputs": [],
      "source": [
        "train_set = '/content/datasets/sign-language-mnist/sign_mnist_train/sign_mnist_train.csv'\n",
        "test_set = '/content/datasets/sign-language-mnist/sign_mnist_test/sign_mnist_test.csv'"
      ]
    },
    {
      "cell_type": "code",
      "execution_count": null,
      "metadata": {
        "colab": {
          "base_uri": "https://localhost:8080/"
        },
        "id": "H04ghfb5xfi6",
        "outputId": "27e3b758-5348-4342-e43f-c5c65ce1e062"
      },
      "outputs": [
        {
          "output_type": "stream",
          "name": "stdout",
          "text": [
            "first line or header:\n",
            "label,pixel1,pixel2,pixel3,pixel4,pixel5,pixel6,pixel7,pixel8,pixel9,pixel10,pixel11,pixel12,pixel13,pixel14,pixel15,pixel16,pixel17,pixel18,pixel19,pixel20,pixel21,pixel22,pixel23,pixel24,pixel25,pixel26,pixel27,pixel28,pixel29,pixel30,pixel31,pixel32,pixel33,pixel34,pixel35,pixel36,pixel37,pixel38,pixel39,pixel40,pixel41,pixel42,pixel43,pixel44,pixel45,pixel46,pixel47,pixel48,pixel49,pixel50,pixel51,pixel52,pixel53,pixel54,pixel55,pixel56,pixel57,pixel58,pixel59,pixel60,pixel61,pixel62,pixel63,pixel64,pixel65,pixel66,pixel67,pixel68,pixel69,pixel70,pixel71,pixel72,pixel73,pixel74,pixel75,pixel76,pixel77,pixel78,pixel79,pixel80,pixel81,pixel82,pixel83,pixel84,pixel85,pixel86,pixel87,pixel88,pixel89,pixel90,pixel91,pixel92,pixel93,pixel94,pixel95,pixel96,pixel97,pixel98,pixel99,pixel100,pixel101,pixel102,pixel103,pixel104,pixel105,pixel106,pixel107,pixel108,pixel109,pixel110,pixel111,pixel112,pixel113,pixel114,pixel115,pixel116,pixel117,pixel118,pixel119,pixel120,pixel121,pixel122,pixel123,pixel124,pixel125,pixel126,pixel127,pixel128,pixel129,pixel130,pixel131,pixel132,pixel133,pixel134,pixel135,pixel136,pixel137,pixel138,pixel139,pixel140,pixel141,pixel142,pixel143,pixel144,pixel145,pixel146,pixel147,pixel148,pixel149,pixel150,pixel151,pixel152,pixel153,pixel154,pixel155,pixel156,pixel157,pixel158,pixel159,pixel160,pixel161,pixel162,pixel163,pixel164,pixel165,pixel166,pixel167,pixel168,pixel169,pixel170,pixel171,pixel172,pixel173,pixel174,pixel175,pixel176,pixel177,pixel178,pixel179,pixel180,pixel181,pixel182,pixel183,pixel184,pixel185,pixel186,pixel187,pixel188,pixel189,pixel190,pixel191,pixel192,pixel193,pixel194,pixel195,pixel196,pixel197,pixel198,pixel199,pixel200,pixel201,pixel202,pixel203,pixel204,pixel205,pixel206,pixel207,pixel208,pixel209,pixel210,pixel211,pixel212,pixel213,pixel214,pixel215,pixel216,pixel217,pixel218,pixel219,pixel220,pixel221,pixel222,pixel223,pixel224,pixel225,pixel226,pixel227,pixel228,pixel229,pixel230,pixel231,pixel232,pixel233,pixel234,pixel235,pixel236,pixel237,pixel238,pixel239,pixel240,pixel241,pixel242,pixel243,pixel244,pixel245,pixel246,pixel247,pixel248,pixel249,pixel250,pixel251,pixel252,pixel253,pixel254,pixel255,pixel256,pixel257,pixel258,pixel259,pixel260,pixel261,pixel262,pixel263,pixel264,pixel265,pixel266,pixel267,pixel268,pixel269,pixel270,pixel271,pixel272,pixel273,pixel274,pixel275,pixel276,pixel277,pixel278,pixel279,pixel280,pixel281,pixel282,pixel283,pixel284,pixel285,pixel286,pixel287,pixel288,pixel289,pixel290,pixel291,pixel292,pixel293,pixel294,pixel295,pixel296,pixel297,pixel298,pixel299,pixel300,pixel301,pixel302,pixel303,pixel304,pixel305,pixel306,pixel307,pixel308,pixel309,pixel310,pixel311,pixel312,pixel313,pixel314,pixel315,pixel316,pixel317,pixel318,pixel319,pixel320,pixel321,pixel322,pixel323,pixel324,pixel325,pixel326,pixel327,pixel328,pixel329,pixel330,pixel331,pixel332,pixel333,pixel334,pixel335,pixel336,pixel337,pixel338,pixel339,pixel340,pixel341,pixel342,pixel343,pixel344,pixel345,pixel346,pixel347,pixel348,pixel349,pixel350,pixel351,pixel352,pixel353,pixel354,pixel355,pixel356,pixel357,pixel358,pixel359,pixel360,pixel361,pixel362,pixel363,pixel364,pixel365,pixel366,pixel367,pixel368,pixel369,pixel370,pixel371,pixel372,pixel373,pixel374,pixel375,pixel376,pixel377,pixel378,pixel379,pixel380,pixel381,pixel382,pixel383,pixel384,pixel385,pixel386,pixel387,pixel388,pixel389,pixel390,pixel391,pixel392,pixel393,pixel394,pixel395,pixel396,pixel397,pixel398,pixel399,pixel400,pixel401,pixel402,pixel403,pixel404,pixel405,pixel406,pixel407,pixel408,pixel409,pixel410,pixel411,pixel412,pixel413,pixel414,pixel415,pixel416,pixel417,pixel418,pixel419,pixel420,pixel421,pixel422,pixel423,pixel424,pixel425,pixel426,pixel427,pixel428,pixel429,pixel430,pixel431,pixel432,pixel433,pixel434,pixel435,pixel436,pixel437,pixel438,pixel439,pixel440,pixel441,pixel442,pixel443,pixel444,pixel445,pixel446,pixel447,pixel448,pixel449,pixel450,pixel451,pixel452,pixel453,pixel454,pixel455,pixel456,pixel457,pixel458,pixel459,pixel460,pixel461,pixel462,pixel463,pixel464,pixel465,pixel466,pixel467,pixel468,pixel469,pixel470,pixel471,pixel472,pixel473,pixel474,pixel475,pixel476,pixel477,pixel478,pixel479,pixel480,pixel481,pixel482,pixel483,pixel484,pixel485,pixel486,pixel487,pixel488,pixel489,pixel490,pixel491,pixel492,pixel493,pixel494,pixel495,pixel496,pixel497,pixel498,pixel499,pixel500,pixel501,pixel502,pixel503,pixel504,pixel505,pixel506,pixel507,pixel508,pixel509,pixel510,pixel511,pixel512,pixel513,pixel514,pixel515,pixel516,pixel517,pixel518,pixel519,pixel520,pixel521,pixel522,pixel523,pixel524,pixel525,pixel526,pixel527,pixel528,pixel529,pixel530,pixel531,pixel532,pixel533,pixel534,pixel535,pixel536,pixel537,pixel538,pixel539,pixel540,pixel541,pixel542,pixel543,pixel544,pixel545,pixel546,pixel547,pixel548,pixel549,pixel550,pixel551,pixel552,pixel553,pixel554,pixel555,pixel556,pixel557,pixel558,pixel559,pixel560,pixel561,pixel562,pixel563,pixel564,pixel565,pixel566,pixel567,pixel568,pixel569,pixel570,pixel571,pixel572,pixel573,pixel574,pixel575,pixel576,pixel577,pixel578,pixel579,pixel580,pixel581,pixel582,pixel583,pixel584,pixel585,pixel586,pixel587,pixel588,pixel589,pixel590,pixel591,pixel592,pixel593,pixel594,pixel595,pixel596,pixel597,pixel598,pixel599,pixel600,pixel601,pixel602,pixel603,pixel604,pixel605,pixel606,pixel607,pixel608,pixel609,pixel610,pixel611,pixel612,pixel613,pixel614,pixel615,pixel616,pixel617,pixel618,pixel619,pixel620,pixel621,pixel622,pixel623,pixel624,pixel625,pixel626,pixel627,pixel628,pixel629,pixel630,pixel631,pixel632,pixel633,pixel634,pixel635,pixel636,pixel637,pixel638,pixel639,pixel640,pixel641,pixel642,pixel643,pixel644,pixel645,pixel646,pixel647,pixel648,pixel649,pixel650,pixel651,pixel652,pixel653,pixel654,pixel655,pixel656,pixel657,pixel658,pixel659,pixel660,pixel661,pixel662,pixel663,pixel664,pixel665,pixel666,pixel667,pixel668,pixel669,pixel670,pixel671,pixel672,pixel673,pixel674,pixel675,pixel676,pixel677,pixel678,pixel679,pixel680,pixel681,pixel682,pixel683,pixel684,pixel685,pixel686,pixel687,pixel688,pixel689,pixel690,pixel691,pixel692,pixel693,pixel694,pixel695,pixel696,pixel697,pixel698,pixel699,pixel700,pixel701,pixel702,pixel703,pixel704,pixel705,pixel706,pixel707,pixel708,pixel709,pixel710,pixel711,pixel712,pixel713,pixel714,pixel715,pixel716,pixel717,pixel718,pixel719,pixel720,pixel721,pixel722,pixel723,pixel724,pixel725,pixel726,pixel727,pixel728,pixel729,pixel730,pixel731,pixel732,pixel733,pixel734,pixel735,pixel736,pixel737,pixel738,pixel739,pixel740,pixel741,pixel742,pixel743,pixel744,pixel745,pixel746,pixel747,pixel748,pixel749,pixel750,pixel751,pixel752,pixel753,pixel754,pixel755,pixel756,pixel757,pixel758,pixel759,pixel760,pixel761,pixel762,pixel763,pixel764,pixel765,pixel766,pixel767,pixel768,pixel769,pixel770,pixel771,pixel772,pixel773,pixel774,pixel775,pixel776,pixel777,pixel778,pixel779,pixel780,pixel781,pixel782,pixel783,pixel784\n",
            "\n",
            "subquent line or data points:\n",
            "3,107,118,127,134,139,143,146,150,153,156,158,160,163,165,159,166,168,170,170,171,171,171,172,171,171,170,170,169,111,121,129,135,141,144,148,151,154,157,160,163,164,170,119,152,171,171,170,171,172,172,172,172,172,171,171,170,113,123,131,137,142,145,150,152,155,158,161,163,164,172,105,142,170,171,171,171,172,172,173,173,172,171,171,171,116,125,133,139,143,146,151,153,156,159,162,163,167,167,95,144,171,172,172,172,172,172,173,173,173,172,172,171,117,126,134,140,145,149,153,156,158,161,163,164,175,156,87,154,172,173,173,173,173,173,174,174,174,173,172,172,119,128,136,142,146,150,153,156,159,163,165,164,184,148,89,164,172,174,174,174,174,175,175,174,175,174,173,173,122,130,138,143,147,150,154,158,162,165,166,172,181,128,94,170,173,175,174,175,176,177,177,177,177,175,175,174,122,132,139,145,149,152,156,160,163,165,166,181,172,103,113,175,176,178,178,179,179,179,179,178,179,177,175,174,125,134,141,147,150,153,157,161,164,167,168,184,179,116,126,165,176,179,180,180,181,180,180,180,179,178,177,176,128,135,142,148,152,154,158,162,165,168,170,187,180,156,161,124,143,179,178,178,181,182,181,180,181,180,179,179,129,136,144,150,153,155,159,163,166,169,172,187,184,153,102,117,110,175,169,154,182,183,183,182,182,181,181,179,131,138,145,150,155,157,161,165,168,174,190,189,175,146,94,97,113,151,158,129,184,184,184,184,183,183,182,180,131,139,146,151,155,159,163,167,175,182,179,171,159,114,102,89,121,136,136,96,172,186,186,185,185,184,182,181,131,140,147,154,157,160,164,179,186,191,187,180,157,100,88,84,108,111,126,90,120,186,187,187,186,185,184,182,133,141,149,155,158,160,174,201,189,165,151,143,146,120,87,78,87,76,108,98,96,181,188,187,186,186,185,183,133,141,150,156,160,161,179,197,174,135,99,72,95,134,97,72,74,68,116,105,108,187,189,187,187,186,186,185,134,143,151,156,161,163,179,194,156,110,74,42,52,139,94,67,75,75,118,106,129,189,191,190,188,188,187,186,135,144,152,158,163,163,177,193,161,122,84,43,71,134,81,57,71,88,112,98,157,193,193,192,190,190,189,188,136,144,152,158,162,163,176,192,164,128,98,62,60,100,71,76,96,101,105,95,174,195,194,194,194,193,191,190,137,145,152,159,164,165,178,191,164,135,113,82,59,87,98,111,120,108,97,108,190,196,195,195,194,193,193,192,139,146,154,160,164,165,175,186,163,139,112,85,67,102,126,133,126,105,104,176,197,198,197,196,195,195,194,193,138,147,155,161,165,167,172,186,163,137,107,87,76,106,122,125,117,96,156,199,199,200,198,196,196,195,195,194,139,148,156,163,166,168,172,180,158,131,108,99,86,108,118,116,103,107,191,202,201,200,200,200,199,197,198,196,140,149,157,164,168,167,177,178,155,131,118,105,87,100,106,100,96,164,202,202,202,202,202,201,200,199,199,198,140,150,157,165,167,170,181,175,152,130,115,98,82,85,90,99,165,202,203,204,203,203,202,202,201,201,200,200,142,150,159,165,170,191,173,157,144,119,97,84,79,79,91,172,202,203,203,205,204,204,204,203,202,202,201,200,142,151,160,165,188,190,187,150,119,109,85,79,79,78,137,203,205,206,206,207,207,206,206,204,205,204,203,202,142,151,160,172,196,188,188,190,135,96,86,77,77,79,176,205,207,207,207,207,207,207,206,206,206,204,203,202\n",
            "\n"
          ]
        }
      ],
      "source": [
        "with open(train_set) as train_file:\n",
        "  line = train_file.readline()\n",
        "  print(f'first line or header:\\n{line}')\n",
        "  line = train_file.readline()\n",
        "  print(f'subquent line or data points:\\n{line}')"
      ]
    },
    {
      "cell_type": "code",
      "execution_count": null,
      "metadata": {
        "id": "RcGrlIJzxi6G"
      },
      "outputs": [],
      "source": [
        "def parse_data(file):\n",
        "  with open(file) as filename:\n",
        "    csv_reader = csv.reader(filename, delimiter=',')\n",
        "\n",
        "    next(csv_reader)\n",
        "    data = list(csv_reader)\n",
        "    labels=[]\n",
        "    images=[]\n",
        "\n",
        "  for row in data:\n",
        "    labels.append(float(row[0]))\n",
        "    images.append([float(x) for x in row[1:]])\n",
        "  labels = np.array(labels)\n",
        "  images = np.array(images)\n",
        "  images = images.reshape(-1, 28, 28)\n",
        "\n",
        "  return images, labels"
      ]
    },
    {
      "cell_type": "code",
      "execution_count": null,
      "metadata": {
        "id": "2CE-eiYkxpiI"
      },
      "outputs": [],
      "source": [
        "train_images, train_labels = parse_data(train_set)\n",
        "test_images, test_labels = parse_data(test_set)"
      ]
    },
    {
      "cell_type": "code",
      "execution_count": null,
      "metadata": {
        "colab": {
          "base_uri": "https://localhost:8080/"
        },
        "id": "YL0_pAdkK_y7",
        "outputId": "fa5065b9-0bbc-4f89-fff9-4a5478b7e2a5"
      },
      "outputs": [
        {
          "output_type": "stream",
          "name": "stdout",
          "text": [
            "Training images has shape: (27455, 28, 28)\n",
            "Training labels has shape: (27455,)\n",
            "Test images has shape: (7172, 28, 28)\n",
            "Test labels has shape: (7172,)\n"
          ]
        }
      ],
      "source": [
        "print(f'Training images has shape: {train_images.shape}')\n",
        "print(f'Training labels has shape: {train_labels.shape}')\n",
        "print(f'Test images has shape: {test_images.shape}')\n",
        "print(f'Test labels has shape: {test_labels.shape}')"
      ]
    },
    {
      "cell_type": "code",
      "execution_count": null,
      "metadata": {
        "colab": {
          "base_uri": "https://localhost:8080/",
          "height": 190
        },
        "id": "AB6N3Z4hxw1_",
        "outputId": "36744c46-723f-4e18-b171-935a78e42116"
      },
      "outputs": [
        {
          "output_type": "display_data",
          "data": {
            "text/plain": [
              "<Figure size 1600x1500 with 10 Axes>"
            ],
            "image/png": "[encoded data removed]"
          },
          "metadata": {}
        }
      ],
      "source": [
        "def plot_categories(train_images, train_labels):\n",
        "  fig, axes = plt.subplots(1, 10, figsize=(16, 15))\n",
        "  axes = axes.flatten()\n",
        "  letters = list(string.ascii_lowercase)\n",
        "\n",
        "  for k in range(10):\n",
        "    img = train_images[k]\n",
        "    img = np.expand_dims(img, axis=-1)\n",
        "    img = array_to_img(img)\n",
        "    ax = axes[k]\n",
        "    ax.imshow(img, cmap='Greys_r')\n",
        "    ax.set_title(f\"{letters[int(train_labels[k])]}\")\n",
        "    ax.set_axis_off()\n",
        "\n",
        "  plt.tight_layout()\n",
        "  plt.show()\n",
        "\n",
        "plot_categories(train_images, train_labels)"
      ]
    },
    {
      "cell_type": "code",
      "execution_count": null,
      "metadata": {
        "id": "GoH7wmUXJa1v"
      },
      "outputs": [],
      "source": [
        "def generators(train_images, train_labels, test_images, test_labels):\n",
        "  train_images = np.expand_dims(train_images, axis=-1)\n",
        "  test_images = np.expand_dims(test_images, axis=-1)\n",
        "\n",
        "  train_generator = ImageDataGenerator(rescale=1./255.,\n",
        "                                      rotation_range=20,\n",
        "                                      width_shift_range=0.2,\n",
        "                                      height_shift_range=0.2,\n",
        "                                      shear_range=0.2,\n",
        "                                      zoom_range=0.2,\n",
        "                                      horizontal_flip=True\n",
        "                                      )\n",
        "  asl_train_data = train_generator.flow(x = train_images,\n",
        "                                        y = train_labels,\n",
        "                                        batch_size = 20) #awalnya 32\n",
        "\n",
        "  test_generator = ImageDataGenerator(rescale=1./255.)\n",
        "  asl_test_data = test_generator.flow(x = test_images,\n",
        "                                      y = test_labels,\n",
        "                                      batch_size = 20)  #awalnya 32\n",
        "  return asl_train_data, asl_test_data"
      ]
    },
    {
      "cell_type": "code",
      "execution_count": null,
      "metadata": {
        "colab": {
          "base_uri": "https://localhost:8080/"
        },
        "id": "tlTWs5dWJ74_",
        "outputId": "1b12d626-1336-4d57-ddf7-44f3fdc4974e"
      },
      "outputs": [
        {
          "output_type": "stream",
          "name": "stdout",
          "text": [
            "Training images has shape: (27455, 28, 28, 1)\n",
            "Test images has shape: (7172, 28, 28, 1)\n"
          ]
        }
      ],
      "source": [
        "asl_train_data, asl_test_data = generators(train_images, train_labels, test_images, test_labels)\n",
        "print(f'Training images has shape: {asl_train_data.x.shape}')\n",
        "print(f'Test images has shape: {asl_test_data.x.shape}')"
      ]
    },
    {
      "cell_type": "markdown",
      "metadata": {
        "id": "fauxeEAIal5J"
      },
      "source": [
        "### Build and Create Base Model"
      ]
    },
    {
      "cell_type": "code",
      "execution_count": null,
      "metadata": {
        "id": "HJarBKiWavXd"
      },
      "outputs": [],
      "source": [
        "def feature_extractor(input):\n",
        "  input_rgb = tf.image.grayscale_to_rgb(input) #karna ternyata harus rgb kalo resnet\n",
        "  base_model = tf.keras.applications.ResNet50(input_shape=(224, 224, 3),\n",
        "                                                    include_top=False,\n",
        "                                                    weights='imagenet')\n",
        "  for layer in base_model.layers:\n",
        "    layer.trainable = False\n",
        "  return base_model(input_rgb)"
      ]
    },
    {
      "cell_type": "markdown",
      "metadata": {
        "id": "MiN8EzsGavlf"
      },
      "source": [
        "### Build Sequential Model Architecture\n"
      ]
    },
    {
      "cell_type": "code",
      "execution_count": null,
      "metadata": {
        "id": "DQa9FNw2Yu-H"
      },
      "outputs": [],
      "source": [
        "def architecture(input):\n",
        "    x = tf.keras.layers.GlobalAveragePooling2D()(input)\n",
        "    x = tf.keras.layers.Dense(512, activation='relu')(x)\n",
        "    x = tf.keras.layers.Dense(256, activation='relu')(x)\n",
        "    x = tf.keras.layers.Dense(128, activation='relu')(x)\n",
        "    x = tf.keras.layers.Dense(64, activation='relu')(x)\n",
        "    x = tf.keras.layers.Dense(26, activation='softmax')(x)\n",
        "    return x"
      ]
    },
    {
      "cell_type": "code",
      "execution_count": null,
      "metadata": {
        "id": "SKzvByZKcvA-"
      },
      "outputs": [],
      "source": [
        "# def final_model():\n",
        "#   input = tf.keras.layers.Input(shape=(28, 28, 1))\n",
        "#   resize = tf.keras.layers.UpSampling2D(size=(8,8))(input)  #karna minimal 32\n",
        "#   resnet = feature_extractor(resize)\n",
        "#   output = architecture(resnet)\n",
        "#   model = tf.keras.Model(inputs=input, outputs = output)\n",
        "\n",
        "#   model.compile(optimizer='SGD',\n",
        "#                 loss='sparse_categorical_crossentropy',\n",
        "#                 metrics= ['accuracy'])\n",
        "#   return model"
      ]
    },
    {
      "cell_type": "code",
      "execution_count": null,
      "metadata": {
        "id": "d5S0fO3cS9fM"
      },
      "outputs": [],
      "source": [
        "def final_model():\n",
        "    input = tf.keras.layers.Input(shape=(28, 28, 1))\n",
        "    resize = tf.keras.layers.UpSampling2D(size=(8,8))(input)  #minimum 32\n",
        "    x = tf.keras.layers.RandomFlip(\"horizontal\")(resize)\n",
        "    x = tf.keras.layers.RandomRotation(0.2)(x)\n",
        "    x = tf.keras.layers.RandomZoom(0.2, 0.2)(x)\n",
        "    resnet = feature_extractor(x)\n",
        "    x = tf.keras.layers.BatchNormalization()(resnet)\n",
        "    x = tf.keras.layers.Dropout(0.2)(x)\n",
        "    x = architecture(x)\n",
        "    model = tf.keras.Model(inputs=input, outputs = x)\n",
        "\n",
        "    model.compile(optimizer=tf.keras.optimizers.Adam(lr=0.001),\n",
        "                loss='sparse_categorical_crossentropy',\n",
        "                metrics= ['accuracy'])\n",
        "    return model"
      ]
    },
    {
      "cell_type": "code",
      "execution_count": null,
      "metadata": {
        "colab": {
          "base_uri": "https://localhost:8080/"
        },
        "id": "dZe9xeaqagTj",
        "outputId": "41fff816-9da4-4107-efb2-89fbd77b09e6"
      },
      "outputs": [
        {
          "name": "stdout",
          "output_type": "stream",
          "text": [
            "Downloading data from https://storage.googleapis.com/tensorflow/keras-applications/resnet/resnet50_weights_tf_dim_ordering_tf_kernels_notop.h5\n",
            "94765736/94765736 [==============================] - 4s 0us/step\n"
          ]
        },
        {
          "name": "stderr",
          "output_type": "stream",
          "text": [
            "WARNING:absl:`lr` is deprecated in Keras optimizer, please use `learning_rate` or use the legacy optimizer, e.g.,tf.keras.optimizers.legacy.Adam.\n"
          ]
        },
        {
          "name": "stdout",
          "output_type": "stream",
          "text": [
            "Model: \"model\"\n",
            "_________________________________________________________________\n",
            " Layer (type)                Output Shape              Param #   \n",
            "=================================================================\n",
            " input_1 (InputLayer)        [(None, 28, 28, 1)]       0         \n",
            "                                                                 \n",
            " up_sampling2d (UpSampling2  (None, 224, 224, 1)       0         \n",
            " D)                                                              \n",
            "                                                                 \n",
            " random_flip (RandomFlip)    (None, 224, 224, 1)       0         \n",
            "                                                                 \n",
            " random_rotation (RandomRot  (None, 224, 224, 1)       0         \n",
            " ation)                                                          \n",
            "                                                                 \n",
            " random_zoom (RandomZoom)    (None, 224, 224, 1)       0         \n",
            "                                                                 \n",
            " tf.image.grayscale_to_rgb   (None, 224, 224, 3)       0         \n",
            " (TFOpLambda)                                                    \n",
            "                                                                 \n",
            " resnet50 (Functional)       (None, 7, 7, 2048)        23587712  \n",
            "                                                                 \n",
            " batch_normalization (Batch  (None, 7, 7, 2048)        8192      \n",
            " Normalization)                                                  \n",
            "                                                                 \n",
            " dropout (Dropout)           (None, 7, 7, 2048)        0         \n",
            "                                                                 \n",
            " global_average_pooling2d (  (None, 2048)              0         \n",
            " GlobalAveragePooling2D)                                         \n",
            "                                                                 \n",
            " dense (Dense)               (None, 512)               1049088   \n",
            "                                                                 \n",
            " dense_1 (Dense)             (None, 256)               131328    \n",
            "                                                                 \n",
            " dense_2 (Dense)             (None, 128)               32896     \n",
            "                                                                 \n",
            " dense_3 (Dense)             (None, 64)                8256      \n",
            "                                                                 \n",
            " dense_4 (Dense)             (None, 26)                1690      \n",
            "                                                                 \n",
            "=================================================================\n",
            "Total params: 24819162 (94.68 MB)\n",
            "Trainable params: 1227354 (4.68 MB)\n",
            "Non-trainable params: 23591808 (90.00 MB)\n",
            "_________________________________________________________________\n"
          ]
        }
      ],
      "source": [
        "model = final_model()\n",
        "model.summary()"
      ]
    },
    {
      "cell_type": "markdown",
      "metadata": {
        "id": "MOVt1OqscvSp"
      },
      "source": [
        "### Configure and Train Model"
      ]
    },
    {
      "cell_type": "code",
      "execution_count": null,
      "metadata": {
        "colab": {
          "background_save": true,
          "base_uri": "https://localhost:8080/"
        },
        "id": "_oxfqN28c6ED",
        "outputId": "d6a78f45-50cb-465c-ac7b-d16164782173"
      },
      "outputs": [
        {
          "name": "stdout",
          "output_type": "stream",
          "text": [
            "Epoch 1/100\n",
            "858/858 [==============================] - 129s 139ms/step - loss: 2.9969 - accuracy: 0.1022 - val_loss: 2.5575 - val_accuracy: 0.1704\n",
            "Epoch 2/100\n",
            "858/858 [==============================] - 116s 136ms/step - loss: 2.8198 - accuracy: 0.1465 - val_loss: 2.3217 - val_accuracy: 0.2514\n",
            "Epoch 3/100\n",
            "858/858 [==============================] - 117s 136ms/step - loss: 2.7249 - accuracy: 0.1698 - val_loss: 2.0412 - val_accuracy: 0.3015\n",
            "Epoch 4/100\n",
            "858/858 [==============================] - 117s 136ms/step - loss: 2.6609 - accuracy: 0.1816 - val_loss: 2.0922 - val_accuracy: 0.3204\n",
            "Epoch 5/100\n",
            "858/858 [==============================] - 136s 158ms/step - loss: 2.6121 - accuracy: 0.1974 - val_loss: 2.1317 - val_accuracy: 0.2804\n",
            "Epoch 6/100\n",
            "858/858 [==============================] - 117s 136ms/step - loss: 2.5761 - accuracy: 0.2046 - val_loss: 1.9857 - val_accuracy: 0.3165\n",
            "Epoch 7/100\n",
            "858/858 [==============================] - 117s 136ms/step - loss: 2.5425 - accuracy: 0.2178 - val_loss: 1.9295 - val_accuracy: 0.3434\n",
            "Epoch 8/100\n",
            "858/858 [==============================] - 117s 136ms/step - loss: 2.5024 - accuracy: 0.2277 - val_loss: 1.9203 - val_accuracy: 0.3482\n",
            "Epoch 9/100\n",
            "858/858 [==============================] - 117s 136ms/step - loss: 2.4872 - accuracy: 0.2307 - val_loss: 1.7939 - val_accuracy: 0.3910\n",
            "Epoch 10/100\n",
            "858/858 [==============================] - 117s 136ms/step - loss: 2.4655 - accuracy: 0.2378 - val_loss: 1.8163 - val_accuracy: 0.3624\n",
            "Epoch 11/100\n",
            "858/858 [==============================] - 117s 136ms/step - loss: 2.4445 - accuracy: 0.2441 - val_loss: 1.8102 - val_accuracy: 0.3898\n",
            "Epoch 12/100\n",
            "858/858 [==============================] - 117s 136ms/step - loss: 2.4241 - accuracy: 0.2478 - val_loss: 1.7462 - val_accuracy: 0.3837\n",
            "Epoch 13/100\n",
            "858/858 [==============================] - 117s 136ms/step - loss: 2.4113 - accuracy: 0.2546 - val_loss: 1.7476 - val_accuracy: 0.3846\n",
            "Epoch 14/100\n",
            "858/858 [==============================] - 117s 136ms/step - loss: 2.3945 - accuracy: 0.2537 - val_loss: 1.7960 - val_accuracy: 0.3954\n",
            "Epoch 15/100\n",
            "858/858 [==============================] - 117s 136ms/step - loss: 2.3852 - accuracy: 0.2543 - val_loss: 1.7328 - val_accuracy: 0.4092\n",
            "Epoch 16/100\n",
            "858/858 [==============================] - 117s 136ms/step - loss: 2.3628 - accuracy: 0.2615 - val_loss: 1.7562 - val_accuracy: 0.3854\n",
            "Epoch 17/100\n",
            "858/858 [==============================] - 117s 136ms/step - loss: 2.3559 - accuracy: 0.2645 - val_loss: 1.7658 - val_accuracy: 0.3965\n",
            "Epoch 18/100\n",
            "858/858 [==============================] - 136s 159ms/step - loss: 2.3428 - accuracy: 0.2724 - val_loss: 1.5206 - val_accuracy: 0.4824\n",
            "Epoch 19/100\n",
            "858/858 [==============================] - 117s 136ms/step - loss: 2.3362 - accuracy: 0.2715 - val_loss: 1.7164 - val_accuracy: 0.4289\n",
            "Epoch 20/100\n",
            "858/858 [==============================] - 117s 136ms/step - loss: 2.3302 - accuracy: 0.2776 - val_loss: 1.6796 - val_accuracy: 0.4310\n",
            "Epoch 21/100\n",
            "858/858 [==============================] - 117s 136ms/step - loss: 2.3113 - accuracy: 0.2775 - val_loss: 1.5342 - val_accuracy: 0.4865\n",
            "Epoch 22/100\n",
            "858/858 [==============================] - 117s 136ms/step - loss: 2.3172 - accuracy: 0.2802 - val_loss: 1.6067 - val_accuracy: 0.4861\n",
            "Epoch 23/100\n",
            "858/858 [==============================] - 136s 159ms/step - loss: 2.3079 - accuracy: 0.2784 - val_loss: 1.7291 - val_accuracy: 0.4158\n",
            "Epoch 24/100\n",
            "858/858 [==============================] - 117s 136ms/step - loss: 2.2939 - accuracy: 0.2837 - val_loss: 1.5653 - val_accuracy: 0.4600\n",
            "Epoch 25/100\n",
            "858/858 [==============================] - 117s 136ms/step - loss: 2.2929 - accuracy: 0.2845 - val_loss: 1.5357 - val_accuracy: 0.4946\n",
            "Epoch 26/100\n",
            "858/858 [==============================] - 117s 136ms/step - loss: 2.2665 - accuracy: 0.2907 - val_loss: 1.5258 - val_accuracy: 0.4773\n",
            "Epoch 27/100\n",
            "858/858 [==============================] - 117s 136ms/step - loss: 2.2761 - accuracy: 0.2913 - val_loss: 1.5378 - val_accuracy: 0.4689\n",
            "Epoch 28/100\n",
            "858/858 [==============================] - 117s 136ms/step - loss: 2.2647 - accuracy: 0.2899 - val_loss: 1.5844 - val_accuracy: 0.4632\n",
            "Epoch 29/100\n",
            "858/858 [==============================] - 117s 136ms/step - loss: 2.2696 - accuracy: 0.2948 - val_loss: 1.6121 - val_accuracy: 0.4435\n",
            "Epoch 30/100\n",
            "858/858 [==============================] - 117s 136ms/step - loss: 2.2530 - accuracy: 0.2948 - val_loss: 1.7262 - val_accuracy: 0.4481\n",
            "Epoch 31/100\n",
            "858/858 [==============================] - 117s 136ms/step - loss: 2.2505 - accuracy: 0.2991 - val_loss: 1.6559 - val_accuracy: 0.4506\n",
            "Epoch 32/100\n",
            "858/858 [==============================] - 117s 136ms/step - loss: 2.2466 - accuracy: 0.2979 - val_loss: 1.5741 - val_accuracy: 0.4702\n",
            "Epoch 33/100\n",
            "858/858 [==============================] - 117s 136ms/step - loss: 2.2305 - accuracy: 0.3027 - val_loss: 1.4880 - val_accuracy: 0.4951\n",
            "Epoch 34/100\n",
            "858/858 [==============================] - 117s 136ms/step - loss: 2.2384 - accuracy: 0.3037 - val_loss: 1.4431 - val_accuracy: 0.5238\n",
            "Epoch 35/100\n",
            "858/858 [==============================] - 117s 136ms/step - loss: 2.2235 - accuracy: 0.3036 - val_loss: 1.6320 - val_accuracy: 0.4557\n",
            "Epoch 36/100\n",
            "858/858 [==============================] - 136s 159ms/step - loss: 2.2139 - accuracy: 0.3094 - val_loss: 1.6667 - val_accuracy: 0.4455\n",
            "Epoch 37/100\n",
            "858/858 [==============================] - 137s 159ms/step - loss: 2.2215 - accuracy: 0.3072 - val_loss: 1.4895 - val_accuracy: 0.5010\n",
            "Epoch 38/100\n",
            "858/858 [==============================] - 117s 136ms/step - loss: 2.2120 - accuracy: 0.3105 - val_loss: 1.4361 - val_accuracy: 0.5102\n",
            "Epoch 39/100\n",
            "858/858 [==============================] - 117s 136ms/step - loss: 2.2039 - accuracy: 0.3147 - val_loss: 1.5173 - val_accuracy: 0.4801\n",
            "Epoch 40/100\n",
            "858/858 [==============================] - 117s 136ms/step - loss: 2.2011 - accuracy: 0.3121 - val_loss: 1.4900 - val_accuracy: 0.5226\n",
            "Epoch 41/100\n",
            "858/858 [==============================] - 117s 137ms/step - loss: 2.2049 - accuracy: 0.3113 - val_loss: 1.4976 - val_accuracy: 0.5218\n",
            "Epoch 42/100\n",
            "858/858 [==============================] - 117s 136ms/step - loss: 2.1942 - accuracy: 0.3173 - val_loss: 1.4911 - val_accuracy: 0.5075\n",
            "Epoch 43/100\n",
            "858/858 [==============================] - 117s 136ms/step - loss: 2.1994 - accuracy: 0.3115 - val_loss: 1.4285 - val_accuracy: 0.5148\n",
            "Epoch 44/100\n",
            "858/858 [==============================] - 117s 136ms/step - loss: 2.1922 - accuracy: 0.3124 - val_loss: 1.5302 - val_accuracy: 0.4887\n",
            "Epoch 45/100\n",
            "858/858 [==============================] - 117s 137ms/step - loss: 2.1942 - accuracy: 0.3167 - val_loss: 1.3847 - val_accuracy: 0.5255\n",
            "Epoch 46/100\n",
            "858/858 [==============================] - 117s 136ms/step - loss: 2.1775 - accuracy: 0.3170 - val_loss: 1.4224 - val_accuracy: 0.5130\n",
            "Epoch 47/100\n",
            "858/858 [==============================] - 117s 137ms/step - loss: 2.1822 - accuracy: 0.3190 - val_loss: 1.4646 - val_accuracy: 0.4996\n",
            "Epoch 48/100\n",
            "858/858 [==============================] - 117s 136ms/step - loss: 2.1609 - accuracy: 0.3247 - val_loss: 1.4290 - val_accuracy: 0.5006\n",
            "Epoch 49/100\n",
            "858/858 [==============================] - 117s 136ms/step - loss: 2.1796 - accuracy: 0.3158 - val_loss: 1.4905 - val_accuracy: 0.5029\n",
            "Epoch 50/100\n",
            "858/858 [==============================] - 117s 136ms/step - loss: 2.1665 - accuracy: 0.3231 - val_loss: 1.4517 - val_accuracy: 0.4965\n",
            "Epoch 51/100\n",
            "858/858 [==============================] - 117s 137ms/step - loss: 2.1637 - accuracy: 0.3291 - val_loss: 1.4032 - val_accuracy: 0.5241\n",
            "Epoch 52/100\n",
            "858/858 [==============================] - 117s 136ms/step - loss: 2.1612 - accuracy: 0.3216 - val_loss: 1.4140 - val_accuracy: 0.5095\n",
            "Epoch 53/100\n",
            "858/858 [==============================] - 117s 137ms/step - loss: 2.1546 - accuracy: 0.3243 - val_loss: 1.3378 - val_accuracy: 0.5431\n",
            "Epoch 54/100\n",
            "858/858 [==============================] - 117s 136ms/step - loss: 2.1547 - accuracy: 0.3265 - val_loss: 1.3712 - val_accuracy: 0.5413\n",
            "Epoch 55/100\n",
            "858/858 [==============================] - 117s 136ms/step - loss: 2.1503 - accuracy: 0.3267 - val_loss: 1.4794 - val_accuracy: 0.4907\n",
            "Epoch 56/100\n",
            "858/858 [==============================] - 117s 136ms/step - loss: 2.1496 - accuracy: 0.3319 - val_loss: 1.3751 - val_accuracy: 0.5425\n",
            "Epoch 57/100\n",
            "858/858 [==============================] - 117s 136ms/step - loss: 2.1504 - accuracy: 0.3282 - val_loss: 1.4413 - val_accuracy: 0.5078\n",
            "Epoch 58/100\n",
            "858/858 [==============================] - 137s 159ms/step - loss: 2.1429 - accuracy: 0.3314 - val_loss: 1.2905 - val_accuracy: 0.5442\n",
            "Epoch 59/100\n",
            "858/858 [==============================] - 117s 136ms/step - loss: 2.1548 - accuracy: 0.3231 - val_loss: 1.4876 - val_accuracy: 0.4909\n",
            "Epoch 60/100\n",
            "858/858 [==============================] - 117s 136ms/step - loss: 2.1363 - accuracy: 0.3290 - val_loss: 1.3979 - val_accuracy: 0.5160\n",
            "Epoch 61/100\n",
            "858/858 [==============================] - 117s 136ms/step - loss: 2.1315 - accuracy: 0.3351 - val_loss: 1.3353 - val_accuracy: 0.5381\n",
            "Epoch 62/100\n",
            "858/858 [==============================] - 136s 159ms/step - loss: 2.1377 - accuracy: 0.3313 - val_loss: 1.3140 - val_accuracy: 0.5498\n",
            "Epoch 63/100\n",
            "858/858 [==============================] - 117s 136ms/step - loss: 2.1399 - accuracy: 0.3302 - val_loss: 1.3226 - val_accuracy: 0.5505\n",
            "Epoch 64/100\n",
            "858/858 [==============================] - 117s 136ms/step - loss: 2.1326 - accuracy: 0.3372 - val_loss: 1.4313 - val_accuracy: 0.5105\n",
            "Epoch 65/100\n",
            "858/858 [==============================] - 117s 136ms/step - loss: 2.1248 - accuracy: 0.3341 - val_loss: 1.2732 - val_accuracy: 0.5760\n",
            "Epoch 66/100\n",
            "858/858 [==============================] - 117s 136ms/step - loss: 2.1190 - accuracy: 0.3398 - val_loss: 1.3453 - val_accuracy: 0.5337\n",
            "Epoch 67/100\n",
            "858/858 [==============================] - 117s 136ms/step - loss: 2.1170 - accuracy: 0.3426 - val_loss: 1.4800 - val_accuracy: 0.4960\n",
            "Epoch 68/100\n",
            "858/858 [==============================] - 117s 136ms/step - loss: 2.1071 - accuracy: 0.3431 - val_loss: 1.3711 - val_accuracy: 0.5389\n",
            "Epoch 69/100\n",
            "858/858 [==============================] - 117s 136ms/step - loss: 2.1271 - accuracy: 0.3373 - val_loss: 1.3744 - val_accuracy: 0.5495\n",
            "Epoch 70/100\n",
            "858/858 [==============================] - 117s 136ms/step - loss: 2.1148 - accuracy: 0.3353 - val_loss: 1.5477 - val_accuracy: 0.4845\n",
            "Epoch 71/100\n",
            "858/858 [==============================] - 117s 136ms/step - loss: 2.1166 - accuracy: 0.3408 - val_loss: 1.2678 - val_accuracy: 0.5657\n",
            "Epoch 72/100\n",
            "858/858 [==============================] - 117s 136ms/step - loss: 2.1164 - accuracy: 0.3365 - val_loss: 1.3410 - val_accuracy: 0.5520\n",
            "Epoch 73/100\n",
            "858/858 [==============================] - 117s 136ms/step - loss: 2.1148 - accuracy: 0.3390 - val_loss: 1.3875 - val_accuracy: 0.5311\n",
            "Epoch 74/100\n",
            "858/858 [==============================] - 117s 136ms/step - loss: 2.1038 - accuracy: 0.3406 - val_loss: 1.4158 - val_accuracy: 0.5350\n",
            "Epoch 75/100\n",
            "858/858 [==============================] - 117s 136ms/step - loss: 2.0950 - accuracy: 0.3433 - val_loss: 1.3604 - val_accuracy: 0.5409\n",
            "Epoch 76/100\n",
            "858/858 [==============================] - 117s 136ms/step - loss: 2.1084 - accuracy: 0.3430 - val_loss: 1.3592 - val_accuracy: 0.5438\n",
            "Epoch 77/100\n",
            "858/858 [==============================] - 117s 136ms/step - loss: 2.1117 - accuracy: 0.3414 - val_loss: 1.3085 - val_accuracy: 0.5676\n",
            "Epoch 78/100\n",
            "858/858 [==============================] - 117s 136ms/step - loss: 2.1051 - accuracy: 0.3453 - val_loss: 1.3326 - val_accuracy: 0.5561\n",
            "Epoch 79/100\n",
            "858/858 [==============================] - 117s 136ms/step - loss: 2.0961 - accuracy: 0.3456 - val_loss: 1.4731 - val_accuracy: 0.5130\n",
            "Epoch 80/100\n",
            "858/858 [==============================] - 136s 159ms/step - loss: 2.0947 - accuracy: 0.3438 - val_loss: 1.3577 - val_accuracy: 0.5389\n",
            "Epoch 81/100\n",
            "858/858 [==============================] - 117s 137ms/step - loss: 2.0872 - accuracy: 0.3434 - val_loss: 1.3623 - val_accuracy: 0.5319\n",
            "Epoch 82/100\n",
            "858/858 [==============================] - 117s 136ms/step - loss: 2.0960 - accuracy: 0.3435 - val_loss: 1.3260 - val_accuracy: 0.5519\n",
            "Epoch 83/100\n",
            "858/858 [==============================] - 117s 136ms/step - loss: 2.0888 - accuracy: 0.3475 - val_loss: 1.2438 - val_accuracy: 0.5664\n",
            "Epoch 84/100\n",
            "858/858 [==============================] - 117s 136ms/step - loss: 2.0803 - accuracy: 0.3500 - val_loss: 1.2655 - val_accuracy: 0.5735\n",
            "Epoch 85/100\n",
            "858/858 [==============================] - 117s 136ms/step - loss: 2.0758 - accuracy: 0.3477 - val_loss: 1.3140 - val_accuracy: 0.5706\n",
            "Epoch 86/100\n",
            "858/858 [==============================] - 117s 136ms/step - loss: 2.0849 - accuracy: 0.3483 - val_loss: 1.3564 - val_accuracy: 0.5356\n",
            "Epoch 87/100\n",
            "858/858 [==============================] - 117s 136ms/step - loss: 2.0923 - accuracy: 0.3457 - val_loss: 1.2774 - val_accuracy: 0.5675\n",
            "Epoch 88/100\n",
            "858/858 [==============================] - 117s 136ms/step - loss: 2.0895 - accuracy: 0.3478 - val_loss: 1.2477 - val_accuracy: 0.5814\n",
            "Epoch 89/100\n",
            "858/858 [==============================] - 117s 136ms/step - loss: 2.0842 - accuracy: 0.3490 - val_loss: 1.4186 - val_accuracy: 0.5180\n",
            "Epoch 90/100\n",
            "858/858 [==============================] - 117s 136ms/step - loss: 2.0857 - accuracy: 0.3458 - val_loss: 1.2262 - val_accuracy: 0.5770\n",
            "Epoch 91/100\n",
            "858/858 [==============================] - 136s 159ms/step - loss: 2.0731 - accuracy: 0.3523 - val_loss: 1.2613 - val_accuracy: 0.5761\n",
            "Epoch 92/100\n",
            "858/858 [==============================] - 117s 136ms/step - loss: 2.0844 - accuracy: 0.3468 - val_loss: 1.1942 - val_accuracy: 0.5894\n",
            "Epoch 93/100\n",
            "858/858 [==============================] - 117s 136ms/step - loss: 2.0618 - accuracy: 0.3584 - val_loss: 1.1953 - val_accuracy: 0.5961\n",
            "Epoch 94/100\n",
            "858/858 [==============================] - 117s 136ms/step - loss: 2.0649 - accuracy: 0.3494 - val_loss: 1.3644 - val_accuracy: 0.5289\n",
            "Epoch 95/100\n",
            "858/858 [==============================] - 117s 136ms/step - loss: 2.0644 - accuracy: 0.3541 - val_loss: 1.2385 - val_accuracy: 0.5890\n",
            "Epoch 96/100\n",
            "858/858 [==============================] - 117s 136ms/step - loss: 2.0704 - accuracy: 0.3533 - val_loss: 1.3298 - val_accuracy: 0.5752\n",
            "Epoch 97/100\n",
            "858/858 [==============================] - 117s 136ms/step - loss: 2.0739 - accuracy: 0.3519 - val_loss: 1.2708 - val_accuracy: 0.5926\n",
            "Epoch 98/100\n",
            "858/858 [==============================] - 117s 136ms/step - loss: 2.0621 - accuracy: 0.3545 - val_loss: 1.2532 - val_accuracy: 0.5853\n",
            "Epoch 99/100\n",
            "858/858 [==============================] - 117s 136ms/step - loss: 2.0592 - accuracy: 0.3570 - val_loss: 1.4257 - val_accuracy: 0.5484\n",
            "Epoch 100/100\n",
            "858/858 [==============================] - 117s 136ms/step - loss: 2.0618 - accuracy: 0.3534 - val_loss: 1.3637 - val_accuracy: 0.5664\n"
          ]
        }
      ],
      "source": [
        "history = model.fit(asl_train_data, epochs=100, validation_data=asl_test_data, batch_size=64)"
      ]
    },
    {
      "cell_type": "markdown",
      "metadata": {
        "id": "VsJ2_dOsc6Wn"
      },
      "source": [
        "### Review Training Curves and Metrics"
      ]
    },
    {
      "cell_type": "code",
      "execution_count": null,
      "metadata": {
        "colab": {
          "background_save": true
        },
        "id": "Sf62GPVUeQdF",
        "outputId": "abd827b8-752c-4120-a656-36b41cdb526a"
      },
      "outputs": [
        {
          "data": {
            "image/png": "[encoded data removed]",
            "text/plain": [
              "<Figure size 1200x400 with 2 Axes>"
            ]
          },
          "metadata": {},
          "output_type": "display_data"
        }
      ],
      "source": [
        "def plot_training_history(history):\n",
        "    # Plot training & validation accuracy values\n",
        "    plt.figure(figsize=(12, 4))\n",
        "    plt.subplot(1, 2, 1)\n",
        "    plt.plot(history.history['accuracy'])\n",
        "    plt.plot(history.history['val_accuracy'])\n",
        "    plt.title('Model accuracy')\n",
        "    plt.ylabel('Accuracy')\n",
        "    plt.xlabel('Epoch')\n",
        "    plt.legend(['Train', 'Validation'], loc='upper left')\n",
        "\n",
        "    # Plot training & validation loss values\n",
        "    plt.subplot(1, 2, 2)\n",
        "    plt.plot(history.history['loss'])\n",
        "    plt.plot(history.history['val_loss'])\n",
        "    plt.title('Model loss')\n",
        "    plt.ylabel('Loss')\n",
        "    plt.xlabel('Epoch')\n",
        "    plt.legend(['Train', 'Validation'], loc='upper left')\n",
        "\n",
        "    plt.show()\n",
        "\n",
        "plot_training_history(history)"
      ]
    },
    {
      "cell_type": "markdown",
      "metadata": {
        "id": "5CcFwuS3eVpf"
      },
      "source": [
        "### Hyperparameter Tuning and Reconfigure Layers"
      ]
    },
    {
      "cell_type": "code",
      "execution_count": null,
      "metadata": {
        "colab": {
          "background_save": true
        },
        "id": "mTZerUUbecaO"
      },
      "outputs": [],
      "source": []
    },
    {
      "cell_type": "markdown",
      "metadata": {
        "id": "TUbwZ6UUecm-"
      },
      "source": [
        "### Convert to TFLite"
      ]
    },
    {
      "cell_type": "code",
      "execution_count": null,
      "metadata": {
        "colab": {
          "background_save": true
        },
        "id": "5PFsMsHRejSO",
        "outputId": "207433b5-b898-4e02-9d17-801c15f3f854"
      },
      "outputs": [
        {
          "name": "stderr",
          "output_type": "stream",
          "text": [
            "/usr/local/lib/python3.10/dist-packages/keras/src/engine/training.py:3103: UserWarning: You are saving your model as an HDF5 file via `model.save()`. This file format is considered legacy. We recommend using instead the native Keras format, e.g. `model.save('my_model.keras')`.\n",
            "  saving_api.save_model(\n"
          ]
        }
      ],
      "source": [
        "# Save the trained model\n",
        "model.save('asl_model.h5')\n",
        "\n",
        "# Convert the model to TFLite\n",
        "converter = tf.lite.TFLiteConverter.from_keras_model(model)\n",
        "tflite_model = converter.convert()\n",
        "\n",
        "# Save the TFLite model to a file\n",
        "with open('asl_model.tflite', 'wb') as f:\n",
        "    f.write(tflite_model)\n"
      ]
    },
    {
      "cell_type": "markdown",
      "metadata": {
        "id": "9BqkXpKpejjO"
      },
      "source": [
        "### Save Model"
      ]
    },
    {
      "cell_type": "code",
      "execution_count": null,
      "metadata": {
        "id": "M4S4PchqenlZ"
      },
      "outputs": [],
      "source": [
        "model.save('asl_model.h5')\n",
        "model.save('asl_saved_model', save_format='tf')"
      ]
    },
    {
      "cell_type": "markdown",
      "metadata": {
        "id": "bjnLgowJe-W5"
      },
      "source": [
        "## BISINDO"
      ]
    },
    {
      "cell_type": "markdown",
      "metadata": {
        "id": "f07xrKsxe-W7"
      },
      "source": [
        "### Data Preparation and Exploration"
      ]
    },
    {
      "cell_type": "code",
      "execution_count": null,
      "metadata": {
        "id": "OTYXRR8we-W7"
      },
      "outputs": [],
      "source": [
        "images_train = '/content/datasets/indonesian-sign-language-bisindo/bisindo/images/train'\n",
        "labels_train = '/content/datasets/indonesian-sign-language-bisindo/bisindo/labels/train'\n",
        "\n",
        "images_test = '/content/datasets/indonesian-sign-language-bisindo/bisindo/images/val'\n",
        "labels_test = '/content/datasets/indonesian-sign-language-bisindo/bisindo/labels/val'"
      ]
    },
    {
      "cell_type": "code",
      "source": [
        "def dataset(dir):\n",
        "  path = []\n",
        "\n",
        "  for letter in os.listdir(dir):\n",
        "    letter_dir = os.path.join(dir, letter)\n",
        "\n",
        "    for name in os.listdir(letter_dir):\n",
        "      path.append(os.path.join(letter_dir, name))\n",
        "  return path"
      ],
      "metadata": {
        "id": "pObelUAETfF1"
      },
      "execution_count": null,
      "outputs": []
    },
    {
      "cell_type": "code",
      "source": [
        "b_images_train = dataset(images_train)\n",
        "b_labels_train = dataset(labels_train)\n",
        "\n",
        "b_images_test = dataset(images_test)\n",
        "b_labels_test = dataset(labels_test)"
      ],
      "metadata": {
        "id": "fhmELdp_Wx2C"
      },
      "execution_count": null,
      "outputs": []
    },
    {
      "cell_type": "code",
      "source": [
        "print(f'There are {len(b_images_train)} images for training')\n",
        "print(f'There are {len(b_labels_train)} labels for training')\n",
        "print(f'There are {len(b_images_test)} images for test')\n",
        "print(f'There are {len(b_labels_test)} labels for test')"
      ],
      "metadata": {
        "colab": {
          "base_uri": "https://localhost:8080/"
        },
        "id": "US0Nr1zcX_ES",
        "outputId": "df7c80ed-834c-4020-a71a-bc9ffab91137"
      },
      "execution_count": null,
      "outputs": [
        {
          "output_type": "stream",
          "name": "stdout",
          "text": [
            "There are 9169 images for training\n",
            "There are 9168 labels for training\n",
            "There are 2301 images for test\n",
            "There are 2301 labels for test\n"
          ]
        }
      ]
    },
    {
      "cell_type": "markdown",
      "source": [
        "### Try without the given label"
      ],
      "metadata": {
        "id": "BfdhiWRtIpn5"
      }
    },
    {
      "cell_type": "code",
      "source": [
        "dict = {}\n",
        "x=0\n",
        "for folder in  os.listdir(train):\n",
        "    dict[x] = folder\n",
        "    x+=1\n",
        "\n",
        "print(dict)"
      ],
      "metadata": {
        "id": "Rs93IvDEIobb"
      },
      "execution_count": null,
      "outputs": []
    },
    {
      "cell_type": "markdown",
      "metadata": {
        "id": "gmAc9MHSe-W8"
      },
      "source": [
        "### Build and Create Base Model"
      ]
    },
    {
      "cell_type": "code",
      "execution_count": null,
      "metadata": {
        "colab": {
          "background_save": true
        },
        "id": "DZYD4Em1e-W8"
      },
      "outputs": [],
      "source": []
    },
    {
      "cell_type": "markdown",
      "metadata": {
        "id": "dltES_NAe-W9"
      },
      "source": [
        "### Build Sequential Model Architecture\n"
      ]
    },
    {
      "cell_type": "code",
      "execution_count": null,
      "metadata": {
        "colab": {
          "background_save": true
        },
        "id": "cHfgOQbQe-W9"
      },
      "outputs": [],
      "source": []
    },
    {
      "cell_type": "markdown",
      "metadata": {
        "id": "p3uPE7Sbe-W-"
      },
      "source": [
        "### Configure and Train Model"
      ]
    },
    {
      "cell_type": "code",
      "execution_count": null,
      "metadata": {
        "colab": {
          "background_save": true
        },
        "id": "ZrLtIiIAe-W_"
      },
      "outputs": [],
      "source": []
    },
    {
      "cell_type": "markdown",
      "metadata": {
        "id": "wfYcpgFxe-W_"
      },
      "source": [
        "### Review Training Curves and Metrics"
      ]
    },
    {
      "cell_type": "code",
      "execution_count": null,
      "metadata": {
        "colab": {
          "background_save": true
        },
        "id": "-eEPHb6de-XA"
      },
      "outputs": [],
      "source": []
    },
    {
      "cell_type": "markdown",
      "metadata": {
        "id": "FvQ6w3TZe-XA"
      },
      "source": [
        "### Hyperparameter Tuning and Reconfigure Layers"
      ]
    },
    {
      "cell_type": "code",
      "execution_count": null,
      "metadata": {
        "colab": {
          "background_save": true
        },
        "id": "B0FbzYl6e-XB"
      },
      "outputs": [],
      "source": []
    },
    {
      "cell_type": "markdown",
      "metadata": {
        "id": "hTcU5Me_e-XB"
      },
      "source": [
        "### Convert to TFLite"
      ]
    },
    {
      "cell_type": "code",
      "execution_count": null,
      "metadata": {
        "colab": {
          "background_save": true
        },
        "id": "DvfguGq3e-XC"
      },
      "outputs": [],
      "source": []
    },
    {
      "cell_type": "markdown",
      "metadata": {
        "id": "o6vbmB2ke-XC"
      },
      "source": [
        "### Save Model"
      ]
    },
    {
      "cell_type": "code",
      "execution_count": null,
      "metadata": {
        "colab": {
          "background_save": true
        },
        "id": "wvp3CQ_fe-XC"
      },
      "outputs": [],
      "source": []
    },
    {
      "cell_type": "markdown",
      "metadata": {
        "id": "_YZiU03JgAhQ"
      },
      "source": [
        "## SANDBOX"
      ]
    },
    {
      "cell_type": "code",
      "source": [
        "def architecture_coba():\n",
        "  model_coba = tf.keras.models.Sequential([\n",
        "      tf.keras.layers.Conv2D(128, (3, 3), activation='relu', input_shape=(28, 28,1)),\n",
        "      tf.keras.layers.MaxPooling2D(2,2),\n",
        "      tf.keras.layers.Dropout(0.2),\n",
        "      tf.keras.layers.Conv2D(64, (3,3), activation='relu'),\n",
        "      tf.keras.layers.MaxPooling2D(2,2),\n",
        "      tf.keras.layers.Dropout(0.2),\n",
        "      tf.keras.layers.Conv2D(64, (3,3), activation='relu'),\n",
        "      tf.keras.layers.MaxPooling2D(2,2),\n",
        "      tf.keras.layers.Dropout(0.2),\n",
        "      tf.keras.layers.Flatten(),\n",
        "      tf.keras.layers.Dense(128, activation='relu'),\n",
        "      tf.keras.layers.Dense(25, activation='softmax')\n",
        "  ])\n",
        "\n",
        "  model_coba.compile(optimizer=tf.keras.optimizers.Adam(learning_rate=0.001),\n",
        "                     loss='sparse_categorical_crossentropy',\n",
        "                     metrics=['accuracy'])\n",
        "  return model_coba"
      ],
      "metadata": {
        "id": "31th9-CzI_-8"
      },
      "execution_count": null,
      "outputs": []
    },
    {
      "cell_type": "code",
      "source": [
        "model_coba = architecture_coba()\n",
        "model_coba.summary()"
      ],
      "metadata": {
        "colab": {
          "base_uri": "https://localhost:8080/"
        },
        "id": "9gS4nUhPyBRD",
        "outputId": "6e818bca-33af-44f8-c115-74071dcf8cf8"
      },
      "execution_count": null,
      "outputs": [
        {
          "output_type": "stream",
          "name": "stdout",
          "text": [
            "Model: \"sequential_2\"\n",
            "_________________________________________________________________\n",
            " Layer (type)                Output Shape              Param #   \n",
            "=================================================================\n",
            " conv2d_6 (Conv2D)           (None, 26, 26, 128)       1280      \n",
            "                                                                 \n",
            " max_pooling2d_6 (MaxPoolin  (None, 13, 13, 128)       0         \n",
            " g2D)                                                            \n",
            "                                                                 \n",
            " dropout_6 (Dropout)         (None, 13, 13, 128)       0         \n",
            "                                                                 \n",
            " conv2d_7 (Conv2D)           (None, 11, 11, 64)        73792     \n",
            "                                                                 \n",
            " max_pooling2d_7 (MaxPoolin  (None, 5, 5, 64)          0         \n",
            " g2D)                                                            \n",
            "                                                                 \n",
            " dropout_7 (Dropout)         (None, 5, 5, 64)          0         \n",
            "                                                                 \n",
            " conv2d_8 (Conv2D)           (None, 3, 3, 64)          36928     \n",
            "                                                                 \n",
            " max_pooling2d_8 (MaxPoolin  (None, 1, 1, 64)          0         \n",
            " g2D)                                                            \n",
            "                                                                 \n",
            " dropout_8 (Dropout)         (None, 1, 1, 64)          0         \n",
            "                                                                 \n",
            " flatten_2 (Flatten)         (None, 64)                0         \n",
            "                                                                 \n",
            " dense_4 (Dense)             (None, 128)               8320      \n",
            "                                                                 \n",
            " dense_5 (Dense)             (None, 25)                3225      \n",
            "                                                                 \n",
            "=================================================================\n",
            "Total params: 123545 (482.60 KB)\n",
            "Trainable params: 123545 (482.60 KB)\n",
            "Non-trainable params: 0 (0.00 Byte)\n",
            "_________________________________________________________________\n"
          ]
        }
      ]
    },
    {
      "cell_type": "code",
      "source": [
        "history_coba = model_coba.fit(asl_train_data, epochs=100, validation_data=asl_test_data, batch_size=20)"
      ],
      "metadata": {
        "colab": {
          "base_uri": "https://localhost:8080/"
        },
        "id": "W9MMXzN_yGxM",
        "outputId": "78ffaa4c-6129-4412-df88-f6e7fd528bbb"
      },
      "execution_count": null,
      "outputs": [
        {
          "output_type": "stream",
          "name": "stdout",
          "text": [
            "Epoch 1/100\n",
            "1373/1373 [==============================] - 17s 12ms/step - loss: 1.9180 - accuracy: 0.3688 - val_loss: 1.3425 - val_accuracy: 0.4993\n",
            "Epoch 2/100\n",
            "1373/1373 [==============================] - 18s 13ms/step - loss: 1.7391 - accuracy: 0.4197 - val_loss: 1.0541 - val_accuracy: 0.6351\n",
            "Epoch 3/100\n",
            "1373/1373 [==============================] - 17s 13ms/step - loss: 1.6502 - accuracy: 0.4468 - val_loss: 1.0643 - val_accuracy: 0.6173\n",
            "Epoch 4/100\n",
            "1373/1373 [==============================] - 17s 13ms/step - loss: 1.5656 - accuracy: 0.4769 - val_loss: 1.1028 - val_accuracy: 0.5848\n",
            "Epoch 5/100\n",
            "1373/1373 [==============================] - 20s 15ms/step - loss: 1.5015 - accuracy: 0.4932 - val_loss: 0.8903 - val_accuracy: 0.6739\n",
            "Epoch 6/100\n",
            "1373/1373 [==============================] - 17s 13ms/step - loss: 1.4328 - accuracy: 0.5217 - val_loss: 0.8872 - val_accuracy: 0.6779\n",
            "Epoch 7/100\n",
            "1373/1373 [==============================] - 17s 12ms/step - loss: 1.3855 - accuracy: 0.5329 - val_loss: 0.7534 - val_accuracy: 0.7322\n",
            "Epoch 8/100\n",
            "1373/1373 [==============================] - 18s 13ms/step - loss: 1.3714 - accuracy: 0.5441 - val_loss: 0.8147 - val_accuracy: 0.7073\n",
            "Epoch 9/100\n",
            "1373/1373 [==============================] - 17s 12ms/step - loss: 1.3197 - accuracy: 0.5528 - val_loss: 0.6571 - val_accuracy: 0.7863\n",
            "Epoch 10/100\n",
            "1373/1373 [==============================] - 17s 12ms/step - loss: 1.2985 - accuracy: 0.5635 - val_loss: 0.6537 - val_accuracy: 0.7787\n",
            "Epoch 11/100\n",
            "1373/1373 [==============================] - 18s 13ms/step - loss: 1.2569 - accuracy: 0.5691 - val_loss: 0.6190 - val_accuracy: 0.7861\n",
            "Epoch 12/100\n",
            "1373/1373 [==============================] - 17s 13ms/step - loss: 1.2321 - accuracy: 0.5810 - val_loss: 0.5661 - val_accuracy: 0.8100\n",
            "Epoch 13/100\n",
            "1373/1373 [==============================] - 19s 14ms/step - loss: 1.1963 - accuracy: 0.5971 - val_loss: 0.5701 - val_accuracy: 0.7996\n",
            "Epoch 14/100\n",
            "1373/1373 [==============================] - 17s 13ms/step - loss: 1.1676 - accuracy: 0.6060 - val_loss: 0.5547 - val_accuracy: 0.8020\n",
            "Epoch 15/100\n",
            "1373/1373 [==============================] - 16s 12ms/step - loss: 1.1595 - accuracy: 0.6058 - val_loss: 0.5439 - val_accuracy: 0.8072\n",
            "Epoch 16/100\n",
            "1373/1373 [==============================] - 17s 13ms/step - loss: 1.1394 - accuracy: 0.6114 - val_loss: 0.4777 - val_accuracy: 0.8483\n",
            "Epoch 17/100\n",
            "1373/1373 [==============================] - 16s 12ms/step - loss: 1.1193 - accuracy: 0.6199 - val_loss: 0.4478 - val_accuracy: 0.8476\n",
            "Epoch 18/100\n",
            "1373/1373 [==============================] - 16s 12ms/step - loss: 1.1064 - accuracy: 0.6224 - val_loss: 0.4970 - val_accuracy: 0.8358\n",
            "Epoch 19/100\n",
            "1373/1373 [==============================] - 17s 12ms/step - loss: 1.0784 - accuracy: 0.6325 - val_loss: 0.4752 - val_accuracy: 0.8298\n",
            "Epoch 20/100\n",
            "1373/1373 [==============================] - 16s 12ms/step - loss: 1.0703 - accuracy: 0.6316 - val_loss: 0.4339 - val_accuracy: 0.8475\n",
            "Epoch 21/100\n",
            "1373/1373 [==============================] - 16s 12ms/step - loss: 1.0564 - accuracy: 0.6414 - val_loss: 0.3860 - val_accuracy: 0.8908\n",
            "Epoch 22/100\n",
            "1373/1373 [==============================] - 16s 12ms/step - loss: 1.0575 - accuracy: 0.6407 - val_loss: 0.4033 - val_accuracy: 0.8791\n",
            "Epoch 23/100\n",
            "1373/1373 [==============================] - 17s 12ms/step - loss: 1.0408 - accuracy: 0.6445 - val_loss: 0.4014 - val_accuracy: 0.8645\n",
            "Epoch 24/100\n",
            "1373/1373 [==============================] - 16s 12ms/step - loss: 1.0404 - accuracy: 0.6455 - val_loss: 0.3909 - val_accuracy: 0.8943\n",
            "Epoch 25/100\n",
            "1373/1373 [==============================] - 16s 12ms/step - loss: 1.0272 - accuracy: 0.6478 - val_loss: 0.3891 - val_accuracy: 0.8685\n",
            "Epoch 26/100\n",
            "1373/1373 [==============================] - 17s 13ms/step - loss: 1.0109 - accuracy: 0.6565 - val_loss: 0.3980 - val_accuracy: 0.8780\n",
            "Epoch 27/100\n",
            "1373/1373 [==============================] - 16s 12ms/step - loss: 1.0089 - accuracy: 0.6570 - val_loss: 0.4372 - val_accuracy: 0.8592\n",
            "Epoch 28/100\n",
            "1373/1373 [==============================] - 17s 12ms/step - loss: 1.0075 - accuracy: 0.6564 - val_loss: 0.3931 - val_accuracy: 0.8716\n",
            "Epoch 29/100\n",
            "1373/1373 [==============================] - 16s 12ms/step - loss: 0.9912 - accuracy: 0.6632 - val_loss: 0.3911 - val_accuracy: 0.8639\n",
            "Epoch 30/100\n",
            "1373/1373 [==============================] - 16s 12ms/step - loss: 0.9965 - accuracy: 0.6633 - val_loss: 0.3497 - val_accuracy: 0.8903\n",
            "Epoch 31/100\n",
            "1373/1373 [==============================] - 18s 13ms/step - loss: 0.9845 - accuracy: 0.6663 - val_loss: 0.3709 - val_accuracy: 0.8837\n",
            "Epoch 32/100\n",
            "1373/1373 [==============================] - 19s 14ms/step - loss: 0.9770 - accuracy: 0.6683 - val_loss: 0.4005 - val_accuracy: 0.8635\n",
            "Epoch 33/100\n",
            "1373/1373 [==============================] - 20s 15ms/step - loss: 0.9730 - accuracy: 0.6699 - val_loss: 0.3538 - val_accuracy: 0.8866\n",
            "Epoch 34/100\n",
            "1373/1373 [==============================] - 18s 13ms/step - loss: 0.9617 - accuracy: 0.6736 - val_loss: 0.3393 - val_accuracy: 0.8991\n",
            "Epoch 35/100\n",
            "1373/1373 [==============================] - 17s 12ms/step - loss: 0.9557 - accuracy: 0.6755 - val_loss: 0.3217 - val_accuracy: 0.9011\n",
            "Epoch 36/100\n",
            "1373/1373 [==============================] - 17s 12ms/step - loss: 0.9578 - accuracy: 0.6736 - val_loss: 0.3430 - val_accuracy: 0.8911\n",
            "Epoch 37/100\n",
            "1373/1373 [==============================] - 16s 12ms/step - loss: 0.9612 - accuracy: 0.6747 - val_loss: 0.3657 - val_accuracy: 0.8787\n",
            "Epoch 38/100\n",
            "1373/1373 [==============================] - 17s 12ms/step - loss: 0.9601 - accuracy: 0.6746 - val_loss: 0.3548 - val_accuracy: 0.8981\n",
            "Epoch 39/100\n",
            "1373/1373 [==============================] - 16s 12ms/step - loss: 0.9403 - accuracy: 0.6806 - val_loss: 0.3487 - val_accuracy: 0.8804\n",
            "Epoch 40/100\n",
            "1373/1373 [==============================] - 17s 12ms/step - loss: 0.9349 - accuracy: 0.6865 - val_loss: 0.3701 - val_accuracy: 0.8793\n",
            "Epoch 41/100\n",
            "1373/1373 [==============================] - 16s 11ms/step - loss: 0.9305 - accuracy: 0.6872 - val_loss: 0.3401 - val_accuracy: 0.8931\n",
            "Epoch 42/100\n",
            "1373/1373 [==============================] - 16s 11ms/step - loss: 0.9233 - accuracy: 0.6861 - val_loss: 0.3127 - val_accuracy: 0.9018\n",
            "Epoch 43/100\n",
            "1373/1373 [==============================] - 16s 12ms/step - loss: 0.9256 - accuracy: 0.6883 - val_loss: 0.3271 - val_accuracy: 0.9060\n",
            "Epoch 44/100\n",
            "1373/1373 [==============================] - 17s 12ms/step - loss: 0.9165 - accuracy: 0.6880 - val_loss: 0.2828 - val_accuracy: 0.9129\n",
            "Epoch 45/100\n",
            "1373/1373 [==============================] - 16s 12ms/step - loss: 0.8963 - accuracy: 0.6978 - val_loss: 0.2963 - val_accuracy: 0.9147\n",
            "Epoch 46/100\n",
            "1373/1373 [==============================] - 16s 12ms/step - loss: 0.9161 - accuracy: 0.6881 - val_loss: 0.3046 - val_accuracy: 0.9179\n",
            "Epoch 47/100\n",
            "1373/1373 [==============================] - 16s 12ms/step - loss: 0.9046 - accuracy: 0.6959 - val_loss: 0.2938 - val_accuracy: 0.9099\n",
            "Epoch 48/100\n",
            "1373/1373 [==============================] - 16s 12ms/step - loss: 0.9085 - accuracy: 0.6953 - val_loss: 0.3158 - val_accuracy: 0.9034\n",
            "Epoch 49/100\n",
            "1373/1373 [==============================] - 16s 12ms/step - loss: 0.8967 - accuracy: 0.6960 - val_loss: 0.3478 - val_accuracy: 0.8784\n",
            "Epoch 50/100\n",
            "1373/1373 [==============================] - 17s 12ms/step - loss: 0.8914 - accuracy: 0.6985 - val_loss: 0.3031 - val_accuracy: 0.9204\n",
            "Epoch 51/100\n",
            "1373/1373 [==============================] - 17s 12ms/step - loss: 0.8905 - accuracy: 0.6988 - val_loss: 0.3009 - val_accuracy: 0.9031\n",
            "Epoch 52/100\n",
            "1373/1373 [==============================] - 16s 11ms/step - loss: 0.8858 - accuracy: 0.7008 - val_loss: 0.2723 - val_accuracy: 0.9306\n",
            "Epoch 53/100\n",
            "1373/1373 [==============================] - 16s 12ms/step - loss: 0.8808 - accuracy: 0.7039 - val_loss: 0.3645 - val_accuracy: 0.8875\n",
            "Epoch 54/100\n",
            "1373/1373 [==============================] - 17s 12ms/step - loss: 0.8815 - accuracy: 0.7018 - val_loss: 0.3318 - val_accuracy: 0.8918\n",
            "Epoch 55/100\n",
            "1373/1373 [==============================] - 16s 12ms/step - loss: 0.8791 - accuracy: 0.7008 - val_loss: 0.2805 - val_accuracy: 0.9202\n",
            "Epoch 56/100\n",
            "1373/1373 [==============================] - 19s 14ms/step - loss: 0.8748 - accuracy: 0.7021 - val_loss: 0.2621 - val_accuracy: 0.9219\n",
            "Epoch 57/100\n",
            "1373/1373 [==============================] - 16s 12ms/step - loss: 0.8741 - accuracy: 0.7055 - val_loss: 0.2730 - val_accuracy: 0.9201\n",
            "Epoch 58/100\n",
            "1373/1373 [==============================] - 16s 12ms/step - loss: 0.8640 - accuracy: 0.7083 - val_loss: 0.2500 - val_accuracy: 0.9363\n",
            "Epoch 59/100\n",
            "1373/1373 [==============================] - 17s 12ms/step - loss: 0.8533 - accuracy: 0.7119 - val_loss: 0.2764 - val_accuracy: 0.9251\n",
            "Epoch 60/100\n",
            "1373/1373 [==============================] - 16s 11ms/step - loss: 0.8624 - accuracy: 0.7087 - val_loss: 0.2557 - val_accuracy: 0.9289\n",
            "Epoch 61/100\n",
            "1373/1373 [==============================] - 16s 12ms/step - loss: 0.8640 - accuracy: 0.7099 - val_loss: 0.2489 - val_accuracy: 0.9307\n",
            "Epoch 62/100\n",
            "1373/1373 [==============================] - 17s 13ms/step - loss: 0.8576 - accuracy: 0.7079 - val_loss: 0.2809 - val_accuracy: 0.9187\n",
            "Epoch 63/100\n",
            "1373/1373 [==============================] - 20s 15ms/step - loss: 0.8682 - accuracy: 0.7045 - val_loss: 0.2595 - val_accuracy: 0.9205\n",
            "Epoch 64/100\n",
            "1373/1373 [==============================] - 16s 12ms/step - loss: 0.8472 - accuracy: 0.7103 - val_loss: 0.2466 - val_accuracy: 0.9307\n",
            "Epoch 65/100\n",
            "1373/1373 [==============================] - 16s 12ms/step - loss: 0.8587 - accuracy: 0.7066 - val_loss: 0.2561 - val_accuracy: 0.9214\n",
            "Epoch 66/100\n",
            "1373/1373 [==============================] - 16s 12ms/step - loss: 0.8534 - accuracy: 0.7120 - val_loss: 0.2451 - val_accuracy: 0.9320\n",
            "Epoch 67/100\n",
            "1373/1373 [==============================] - 17s 12ms/step - loss: 0.8580 - accuracy: 0.7098 - val_loss: 0.2726 - val_accuracy: 0.9069\n",
            "Epoch 68/100\n",
            "1373/1373 [==============================] - 16s 11ms/step - loss: 0.8480 - accuracy: 0.7123 - val_loss: 0.2964 - val_accuracy: 0.8977\n",
            "Epoch 69/100\n",
            "1373/1373 [==============================] - 16s 12ms/step - loss: 0.8456 - accuracy: 0.7172 - val_loss: 0.2309 - val_accuracy: 0.9311\n",
            "Epoch 70/100\n",
            "1373/1373 [==============================] - 17s 13ms/step - loss: 0.8481 - accuracy: 0.7147 - val_loss: 0.2952 - val_accuracy: 0.9083\n",
            "Epoch 71/100\n",
            "1373/1373 [==============================] - 17s 12ms/step - loss: 0.8545 - accuracy: 0.7087 - val_loss: 0.2432 - val_accuracy: 0.9438\n",
            "Epoch 72/100\n",
            "1373/1373 [==============================] - 16s 12ms/step - loss: 0.8346 - accuracy: 0.7149 - val_loss: 0.2437 - val_accuracy: 0.9197\n",
            "Epoch 73/100\n",
            "1373/1373 [==============================] - 17s 12ms/step - loss: 0.8268 - accuracy: 0.7195 - val_loss: 0.2592 - val_accuracy: 0.9226\n",
            "Epoch 74/100\n",
            "1373/1373 [==============================] - 17s 12ms/step - loss: 0.8310 - accuracy: 0.7210 - val_loss: 0.2077 - val_accuracy: 0.9491\n",
            "Epoch 75/100\n",
            "1373/1373 [==============================] - 18s 13ms/step - loss: 0.8386 - accuracy: 0.7171 - val_loss: 0.2120 - val_accuracy: 0.9374\n",
            "Epoch 76/100\n",
            "1373/1373 [==============================] - 20s 14ms/step - loss: 0.8316 - accuracy: 0.7162 - val_loss: 0.2427 - val_accuracy: 0.9290\n",
            "Epoch 77/100\n",
            "1373/1373 [==============================] - 19s 14ms/step - loss: 0.8199 - accuracy: 0.7237 - val_loss: 0.2493 - val_accuracy: 0.9127\n",
            "Epoch 78/100\n",
            "1373/1373 [==============================] - 21s 15ms/step - loss: 0.8272 - accuracy: 0.7220 - val_loss: 0.2136 - val_accuracy: 0.9377\n",
            "Epoch 79/100\n",
            "1373/1373 [==============================] - 17s 12ms/step - loss: 0.8206 - accuracy: 0.7240 - val_loss: 0.2370 - val_accuracy: 0.9300\n",
            "Epoch 80/100\n",
            "1373/1373 [==============================] - 18s 13ms/step - loss: 0.8094 - accuracy: 0.7248 - val_loss: 0.2896 - val_accuracy: 0.9028\n",
            "Epoch 81/100\n",
            "1373/1373 [==============================] - 16s 12ms/step - loss: 0.7994 - accuracy: 0.7316 - val_loss: 0.2410 - val_accuracy: 0.9255\n",
            "Epoch 82/100\n",
            "1373/1373 [==============================] - 16s 12ms/step - loss: 0.8099 - accuracy: 0.7253 - val_loss: 0.2498 - val_accuracy: 0.9207\n",
            "Epoch 83/100\n",
            "1373/1373 [==============================] - 16s 12ms/step - loss: 0.8039 - accuracy: 0.7295 - val_loss: 0.2090 - val_accuracy: 0.9456\n",
            "Epoch 84/100\n",
            "1373/1373 [==============================] - 16s 12ms/step - loss: 0.8126 - accuracy: 0.7262 - val_loss: 0.2175 - val_accuracy: 0.9347\n",
            "Epoch 85/100\n",
            "1373/1373 [==============================] - 16s 12ms/step - loss: 0.8135 - accuracy: 0.7258 - val_loss: 0.2454 - val_accuracy: 0.9388\n",
            "Epoch 86/100\n",
            "1373/1373 [==============================] - 16s 12ms/step - loss: 0.8048 - accuracy: 0.7293 - val_loss: 0.2360 - val_accuracy: 0.9360\n",
            "Epoch 87/100\n",
            "1373/1373 [==============================] - 16s 12ms/step - loss: 0.8054 - accuracy: 0.7286 - val_loss: 0.2327 - val_accuracy: 0.9342\n",
            "Epoch 88/100\n",
            "1373/1373 [==============================] - 17s 12ms/step - loss: 0.8084 - accuracy: 0.7300 - val_loss: 0.2211 - val_accuracy: 0.9356\n",
            "Epoch 89/100\n",
            "1373/1373 [==============================] - 17s 12ms/step - loss: 0.8009 - accuracy: 0.7301 - val_loss: 0.2284 - val_accuracy: 0.9303\n",
            "Epoch 90/100\n",
            "1373/1373 [==============================] - 18s 13ms/step - loss: 0.7915 - accuracy: 0.7322 - val_loss: 0.2361 - val_accuracy: 0.9258\n",
            "Epoch 91/100\n",
            "1373/1373 [==============================] - 16s 12ms/step - loss: 0.7909 - accuracy: 0.7361 - val_loss: 0.2113 - val_accuracy: 0.9424\n",
            "Epoch 92/100\n",
            "1373/1373 [==============================] - 16s 12ms/step - loss: 0.7783 - accuracy: 0.7364 - val_loss: 0.2110 - val_accuracy: 0.9336\n",
            "Epoch 93/100\n",
            "1373/1373 [==============================] - 16s 12ms/step - loss: 0.7936 - accuracy: 0.7318 - val_loss: 0.2269 - val_accuracy: 0.9300\n",
            "Epoch 94/100\n",
            "1373/1373 [==============================] - 16s 12ms/step - loss: 0.7830 - accuracy: 0.7391 - val_loss: 0.2205 - val_accuracy: 0.9313\n",
            "Epoch 95/100\n",
            "1373/1373 [==============================] - 16s 12ms/step - loss: 0.7815 - accuracy: 0.7346 - val_loss: 0.2110 - val_accuracy: 0.9474\n",
            "Epoch 96/100\n",
            "1373/1373 [==============================] - 17s 12ms/step - loss: 0.7818 - accuracy: 0.7377 - val_loss: 0.1948 - val_accuracy: 0.9466\n",
            "Epoch 97/100\n",
            "1373/1373 [==============================] - 18s 13ms/step - loss: 0.7858 - accuracy: 0.7341 - val_loss: 0.2368 - val_accuracy: 0.9241\n",
            "Epoch 98/100\n",
            "1373/1373 [==============================] - 16s 12ms/step - loss: 0.7865 - accuracy: 0.7366 - val_loss: 0.1966 - val_accuracy: 0.9338\n",
            "Epoch 99/100\n",
            "1373/1373 [==============================] - 16s 12ms/step - loss: 0.7784 - accuracy: 0.7382 - val_loss: 0.2196 - val_accuracy: 0.9356\n",
            "Epoch 100/100\n",
            "1373/1373 [==============================] - 18s 13ms/step - loss: 0.7927 - accuracy: 0.7335 - val_loss: 0.2076 - val_accuracy: 0.9368\n"
          ]
        }
      ]
    },
    {
      "cell_type": "code",
      "source": [
        "# Save the trained model\n",
        "model_coba.save('asl_model.h5')\n",
        "\n",
        "# Convert the model to TFLite\n",
        "converter = tf.lite.TFLiteConverter.from_keras_model(model_coba)\n",
        "tflite_model = converter.convert()\n",
        "\n",
        "# Save the TFLite model to a file\n",
        "with open('asl_model.tflite', 'wb') as f:\n",
        "    f.write(tflite_model)"
      ],
      "metadata": {
        "id": "Xa3DFMKHpuSS",
        "colab": {
          "base_uri": "https://localhost:8080/"
        },
        "outputId": "8f6a2e98-26a4-4cca-d47a-c3d1d818aa82"
      },
      "execution_count": null,
      "outputs": [
        {
          "output_type": "stream",
          "name": "stderr",
          "text": [
            "/usr/local/lib/python3.10/dist-packages/keras/src/engine/training.py:3103: UserWarning: You are saving your model as an HDF5 file via `model.save()`. This file format is considered legacy. We recommend using instead the native Keras format, e.g. `model.save('my_model.keras')`.\n",
            "  saving_api.save_model(\n"
          ]
        }
      ]
    },
    {
      "cell_type": "code",
      "source": [],
      "metadata": {
        "id": "WJbBaZ3vtUuF"
      },
      "execution_count": null,
      "outputs": []
    }
  ],
  "metadata": {
    "colab": {
      "provenance": [],
      "collapsed_sections": [
        "fauxeEAIal5J",
        "VsJ2_dOsc6Wn",
        "9BqkXpKpejjO",
        "bjnLgowJe-W5"
      ],
      "include_colab_link": true
    },
    "kernelspec": {
      "display_name": "Python 3",
      "name": "python3"
    },
    "language_info": {
      "name": "python"
    }
  },
  "nbformat": 4,
  "nbformat_minor": 0
}